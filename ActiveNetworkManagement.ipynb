{
 "cells": [
  {
   "cell_type": "markdown",
   "id": "e5a62abb-8a27-4e9f-bc6e-95fc76f09ae5",
   "metadata": {},
   "source": [
    "# Active Network Management | ANM of LV Networks - Rule-Based Approach"
   ]
  },
  {
   "cell_type": "markdown",
   "id": "6b83137f-7235-45a3-af38-75f835207fc3",
   "metadata": {},
   "source": [
    "## 1. Introduction \n",
    "\n",
    "### Objectives \n",
    "The objectives of this tutorial are:\n",
    "1. To familiarise with the process by which power engineers can assess the benefits from adopting active network management solutions in LV networks with solar PV. To achieve this, you will investigate how the flexibility of certain network elements or technologies can be exploited to improve voltages.\n",
    "\n",
    "2. To continue familiarising with the advanced tool [OpenDSS](https://www.epri.com/pages/sa/opendss) (using Python and the [dss_python](https://github.com/dss-extensions/dss_python) module). And, to guide you, all will be done using a notebook on [Jupyter Notebook](https://jupyter.org/).\n",
    "\n",
    "### Structure of this Notebook\n",
    "The rest of this notebook is divided into three parts:\n",
    "\n",
    "- **2. Tutorial.** You will learn how to model a distribution transformer's OLTC and how to change the taps so that the voltage profiles are within the statutory limits.\n",
    "- **3. Exercises.** Here you will go through some exercises that will help you familiarise with the code and how to modify it for different purposes.\n",
    "- **4. Simulation Workspace.** Here you can place all your code to run it at once. You should use **`code`** that is relevant to each question \n",
    "\n",
    "<font color='red'>**<u>Note</u>:**</font> Make sure to understand well how to model the network, particularly how to model the OLTC, because this will be crucial to go through the exercises. If you make a mistake when modelling the network, your results will be incorrect."
   ]
  },
  {
   "cell_type": "markdown",
   "id": "bb9ebd29-d042-4c63-b7ec-2e34fd05fb2c",
   "metadata": {},
   "source": [
    "## 2. Tutorial   "
   ]
  },
  {
   "cell_type": "markdown",
   "id": "23dc2676-5950-498b-8ae4-c745aa5a92b8",
   "metadata": {},
   "source": [
    "We will use the Test LV Circuit (shown in the figure below) from the [Tutorial-DERHostingCapacity-2-TimeSeries_LV](https://github.com/Team-Nando/Tutorial-DERHostingCapacity-2-TimeSeries_LV).  \n",
    "\n",
    "Since you have already been working with this Test LV Circuit, only the information related to the transformer's on-load tap changer will be given in detail. "
   ]
  },
  {
   "cell_type": "markdown",
   "id": "1ddd92b0-dd85-41fb-ae04-3870c7e5a4b7",
   "metadata": {},
   "source": [
    "<img style=\"float: middle;\" src=\"LVcircuit-topology.png\" width=\"50%\">  \n",
    "\n",
    "**<center>Figure 1. Test LV Circuit Topology</center>**   "
   ]
  },
  {
   "cell_type": "markdown",
   "id": "0cc4dc83-9b8d-40b4-a028-802324ea3354",
   "metadata": {},
   "source": [
    "A simple distribution transformer transforms voltages without any flexibility. But in many countries, including Australia, it is common to have a bit of flexibility in the form of **off-load tap changers**. The transformer needs to be off-load (disconnected) to change the tap to the desired position (the desired transformation ratio). The number of positions is, however, very limited (e.g., -5%, -2.5%, 0%, +2.5%, +5%). In the last decade, **OLTCs, a technology common in primary substations (or zone substation as known in Australia), are also available for distribution transformers**. This means we can set a voltage target and thanks to  multiple positions and the on-load capabilities, the secondary side can keep a desired voltage.\n",
    "\n",
    "**In this tutorial we will simply show you how to code the OLTC. You will explore the use of the OLTC in the exercises.**\n",
    "\n",
    "Follow the steps below. **And let's begin!**\n",
    "\n",
    "<font color='red'>**<u>Note</u>:**</font> You will need to run the code in each cell. Select the code cell (a <font color='green'>**green box [ ]**</font> surrounding the cell will appear) and then click on the &#9654; **`Run`** button on top of the page to run the corresponding code (or use the shortcut `Control`-`Enter`). Since you will be running code, **you will need to run the cells sequentially**, one after the other without skipping code cells. A number will appear inside the brackets [X] indicating the number of the *run*."
   ]
  },
  {
   "cell_type": "markdown",
   "id": "97fb5a19-6760-457d-8436-5b8dd25dfda0",
   "metadata": {},
   "source": [
    "### 2.1 Load Modules and Libraries"
   ]
  },
  {
   "cell_type": "code",
   "id": "e167b8d8-45a8-41cb-a1a5-5cd1700834a2",
   "metadata": {},
   "source": [
    "import os\n",
    "import numpy as np\n",
    "import pandas as pd\n",
    "import random\n",
    "import matplotlib.pyplot as plt\n",
    "import math\n",
    "from random import choice"
   ],
   "outputs": [],
   "execution_count": null
  },
  {
   "metadata": {},
   "cell_type": "code",
   "source": [
    "added_path = \"\"\n",
    "if os.getenv(\"COLAB_RELEASE_TAG\"):\n",
    "    !git clone --depth=1 -q https://github.com/Team-Nando/ANM-of-LV-Networks-Rule-Based-Approach\n",
    "    !pip install dss-python==0.15.7\n",
    "    added_path = '/ANM-of-LV-Networks-Rule-Based-Approach'\n",
    "import dss"
   ],
   "id": "1791e67295e8b72",
   "outputs": [],
   "execution_count": null
  },
  {
   "cell_type": "markdown",
   "id": "dffe70b7-2cb1-43d7-8d6a-968466f1b335",
   "metadata": {},
   "source": [
    "<a id='4'></a>\n",
    "### 2.2 Set the working path\n",
    "Run the code in the cell below to get your working path. As an output you get the location of this notebook in your computer.  \n",
    "\n",
    "<font color='red'>**<u>Note 1</u>:**</font> Your path should not have spaces. Here is an example with no spaces: `C:\\Users\\name\\Desktop\\FolderX`.\n",
    "\n",
    "<font color='red'>**<u>Note 2</u>:**</font> If you are a MAC user, there may be some errors due to the different use of slash/backslash when defining a path. By changing `/` instead of `\\`, you will fix the problem. For instance, you can change `\\\\Residential..` with `/Residential..`.\n",
    "\n",
    "<font color='red'>**<u>Note 3</u>:**</font> You should always open the Jupyter Notebook file from the folder that you uploaded to Jupyter Notebook. If you want to continue working later, you can simply save the changes and then open the **.ipynb** file again and continue working from where you left."
   ]
  },
  {
   "cell_type": "code",
   "id": "37b57553-68cb-4154-a6c0-be4e3c0d105d",
   "metadata": {},
   "source": [
    "mydir = os.getcwd() + added_path\n",
    "print(f\"The direction is located in the following path: my_directory = {mydir}\")"
   ],
   "outputs": [],
   "execution_count": null
  },
  {
   "cell_type": "markdown",
   "id": "6803f577-fdd5-41f1-984d-62eb3e55e871",
   "metadata": {},
   "source": [
    "### 2.3 Set up dss_engine"
   ]
  },
  {
   "cell_type": "code",
   "id": "0ddde667-c926-45fc-a031-6c605e1f81f1",
   "metadata": {},
   "source": [
    "dss_engine = dss.DSS\n",
    "DSSText = dss_engine.Text\n",
    "DSSCircuit = dss_engine.ActiveCircuit\n",
    "DSSSolution = dss_engine.ActiveCircuit.Solution\n",
    "ControlQueue = dss_engine.ActiveCircuit.CtrlQueue\n",
    "dss_engine.AllowForms = 0"
   ],
   "outputs": [],
   "execution_count": null
  },
  {
   "cell_type": "markdown",
   "id": "09436b9f-4b93-4507-aadb-8b6585f46470",
   "metadata": {},
   "source": [
    "### 2.4 Network, Load and solar PV Modelling\n",
    "#### 2.4.1 Define components\n",
    "The `LVcircuit-master.txt` file defines the frequency and base voltages, then it redirects to network components definitions: transformers, lines, loads, etc.  "
   ]
  },
  {
   "cell_type": "code",
   "id": "747aae80-0364-42b9-b7a3-174c5bcb1bcd",
   "metadata": {},
   "source": [
    "DSSText.Command = 'Clear'                               \n",
    "DSSText.Command = 'Compile ' + mydir +  '/TestLVCircuit/LVcircuit-master.txt'    \n",
    "DSSText.Command = 'Set VoltageBases = [22.0, 0.400]'\n",
    "DSSText.Command = 'calcvoltagebases'"
   ],
   "outputs": [],
   "execution_count": null
  },
  {
   "cell_type": "markdown",
   "id": "b7d86722-dd81-42b6-9b46-b9a7e5b834f3",
   "metadata": {},
   "source": [
    "#### 2.4.2 Import Load and PV profiles and store their shapes"
   ]
  },
  {
   "cell_type": "code",
   "id": "4fba0621",
   "metadata": {},
   "source": [
    "houseData30minutes = np.load(mydir + '/TestLVCircuit/Residential load data 30-min resolution.npy') \n",
    "PVData30minutes = np.load(mydir + '/TestLVCircuit/Residential PV data 30-min resolution.npy')"
   ],
   "outputs": [],
   "execution_count": null
  },
  {
   "cell_type": "code",
   "id": "919f5973",
   "metadata": {},
   "source": [
    "shape_profiles  = houseData30minutes.shape\n",
    "noProfiles = shape_profiles[0]\n",
    "PV_shape_profiles  = PVData30minutes.shape\n",
    "\n",
    "x=[i for i in range(48)]\n",
    "l=[]\n",
    "for i in range(24): \n",
    "      l.append(\"%s:00\"%i)\n",
    "      l.append(\" \")"
   ],
   "outputs": [],
   "execution_count": null
  },
  {
   "cell_type": "markdown",
   "id": "c34a7956-eec1-49f4-b99f-3eb32f9411b2",
   "metadata": {},
   "source": [
    "### 2.5 Definition of Functions\n",
    "\n",
    "#### 2.5.1 def <font color=blue> Load_profile_allocation</font> (New,icust,cust,iday)"
   ]
  },
  {
   "cell_type": "code",
   "id": "b20b54b6",
   "metadata": {},
   "source": [
    "def Load_profile_allocation(New,icust,cust,iday):\n",
    "    if New==1:\n",
    "       load_profile = np.zeros(48)\n",
    "       DSSCircuit.LoadShapes.New('customer_profile_%s' %(icust))\n",
    "       DSSCircuit.LoadShapes.Npts = 48\n",
    "       DSSCircuit.LoadShapes.MinInterval = 30\n",
    "       DSSCircuit.LoadShapes.UseActual = 1\n",
    "       DSSCircuit.LoadShapes.Qmult = (load_profile * math.tan(math.acos(0.95))).tolist()\n",
    "    \n",
    "    else:\n",
    "        random_profile = np.random.randint(0,noProfiles)        \n",
    "        load_profile = houseData30minutes[random_profile, iday, :]\n",
    "        reactive_profile = []\n",
    "        for j in range(48):\n",
    "            reactive_profile.append((load_profile[j]) * math.tan(math.acos(keep_power_factor[icust][j])))\n",
    "        reactive_profile = np.array(reactive_profile)          \n",
    "        DSSCircuit.LoadShapes.Qmult = reactive_profile.tolist()\n",
    "        \n",
    "        \n",
    "    DSSCircuit.LoadShapes.Name = 'customer_profile_%s' %(icust)\n",
    "    DSSCircuit.LoadShapes.Pmult = load_profile.tolist()  \n",
    "    DSSCircuit.SetActiveElement('load.%s'%(cust))\n",
    "    DSSCircuit.ActiveElement.Properties('daily').Val = str('customer_profile_%s' %(icust))\n",
    "    if New==0:\n",
    "        return (load_profile,reactive_profile,random_profile)"
   ],
   "outputs": [],
   "execution_count": null
  },
  {
   "cell_type": "markdown",
   "id": "2422f2ad-f449-44ab-82b9-02c760f98423",
   "metadata": {},
   "source": [
    "#### 2.5.2 def <font color=blue> PV_allocation</font> (New,icust,cust,iday)"
   ]
  },
  {
   "cell_type": "code",
   "id": "168c4c71-6063-4554-8298-fbfdd557fed6",
   "metadata": {},
   "source": [
    "def PV_allocation(New,icust,cust,iday):\n",
    "    if New==1:\n",
    "        PV_profile = np.zeros(48)\n",
    "        DSSCircuit.LoadShapes.New('pv_profile_%s' %(icust))\n",
    "        DSSCircuit.LoadShapes.Npts = 48\n",
    "        DSSCircuit.LoadShapes.MinInterval = 30\n",
    "        DSSCircuit.LoadShapes.UseActual = 1\n",
    "        DSSCircuit.LoadShapes.Pmult = PV_profile.tolist()\n",
    "        DSSCircuit.SetActiveElement('load.%s' %(cust))\n",
    "        bus_name = DSSCircuit.ActiveElement.Properties('bus1').Val\n",
    "        DSSText.Command = 'new PVSystem.%s'%(icust)\\\n",
    "                                + ' phases = 1'  \\\n",
    "                                + ' irradiance = 1' \\\n",
    "                                + ' %cutin = 0.05' \\\n",
    "                                + ' %cutout = 0.05' \\\n",
    "                                + ' vmaxpu = 1.5' \\\n",
    "                                + ' vminpu = 0.5' \\\n",
    "                                + ' kva = 10' \\\n",
    "                                + ' pmpp = 10'\\\n",
    "                                + ' bus1 = ' + str(bus_name)\\\n",
    "                                + ' pf = 1' \\\n",
    "                                + ' kv = 0.23' \\\n",
    "                                + ' daily = ' +str('pv_profile_%s'%(icust))\n",
    "    else:\n",
    "        PV_profile = PVData30minutes[iday,:]\n",
    "        pv_profiles_all.append(PV_profile)        \n",
    "        DSSCircuit.LoadShapes.Name = 'pv_profile_%s' %(icust)\n",
    "        DSSCircuit.LoadShapes.Pmult = PV_profile.tolist()        \n",
    "        DSSCircuit.SetActiveElement('load.%s' %(cust))\n",
    "        bus_name = DSSCircuit.ActiveElement.Properties('bus1').Val\n",
    "        DSSCircuit.SetActiveElement('PVSystem.%s'%(icust))\n",
    "        DSSCircuit.ActiveElement.Properties('bus1').Val = str(bus_name)\n",
    "        DSSCircuit.ActiveElement.Properties('daily').Val = str('pv_profile_%s'%(icust))\n",
    "        return PV_profile"
   ],
   "outputs": [],
   "execution_count": null
  },
  {
   "cell_type": "markdown",
   "id": "39b7760b-36cc-4c8c-849f-00ea4b7c0ab7",
   "metadata": {},
   "source": [
    "#### 2.5.3 def <font color=blue>Initiate_variable</font> (customers)"
   ]
  },
  {
   "cell_type": "code",
   "id": "4a780e91",
   "metadata": {},
   "source": [
    "def Initiate_variable(customers):\n",
    "    kW_monitors = np.zeros((customers,48))\n",
    "    kvar_monitors = np.zeros((customers,48))\n",
    "    voltages_monitors = np.zeros((customers,48))\n",
    "    df_kw = pd.DataFrame()\n",
    "    df_kvar = pd.DataFrame()\n",
    "    df_volt = pd.DataFrame()\n",
    "    load_profiles_all = []\n",
    "    pv_profiles_all = []\n",
    "    random_profiles_all = []    \n",
    "    rand_cust = []  \n",
    "    reactive_profiles_all = []\n",
    "    return  (kW_monitors, kvar_monitors, voltages_monitors, df_kw, df_kvar, \n",
    "             df_volt, load_profiles_all, pv_profiles_all, random_profiles_all, rand_cust,reactive_profiles_all)"
   ],
   "outputs": [],
   "execution_count": null
  },
  {
   "cell_type": "markdown",
   "id": "a2f161f7-183c-4b87-a105-51d43aaa24dc",
   "metadata": {},
   "source": [
    "#### 2.5.4 def <font color=blue>Monitors_data</font> ()"
   ]
  },
  {
   "cell_type": "code",
   "id": "64d0a20a",
   "metadata": {},
   "source": [
    "def Monitors_data():\n",
    "    for icust, cust in enumerate(Loadname):\n",
    "            DSSCircuit.SetActiveElement('load.%s' %(cust))\n",
    "            kW_monitors[icust, itime] = DSSCircuit.ActiveElement.Powers[0]\n",
    "            kvar_monitors[icust,itime]= DSSCircuit.ActiveElement.Powers[1]\n",
    "            bus_name = DSSCircuit.ActiveElement.Properties('bus1').Val\n",
    "            DSSCircuit.SetActiveBus(bus_name)\n",
    "            voltages_monitors[icust, itime] = DSSCircuit.ActiveBus.puVmagAngle[0]"
   ],
   "outputs": [],
   "execution_count": null
  },
  {
   "cell_type": "markdown",
   "id": "48ba18a5-e70f-444b-9151-0a2deac15c23",
   "metadata": {},
   "source": [
    "### 2.6 Simulation and Results\n",
    "- <font color='red'>**<u>Note</u>:**</font> Here starts the most important part of this workshop.\n",
    "\n",
    "#### 2.6.1  Set simulation period\n",
    "- Set `start_day` and `total_day` to choose the simulation period you want.  \n",
    "- The start_day will be given in the Questions, so use the **exact day** provided.\n",
    "- You will run the simulation for the given day only, so `total_days` will be equal to 1."
   ]
  },
  {
   "cell_type": "code",
   "id": "b1a3d365-e23a-4961-9481-eefc84cf9faa",
   "metadata": {},
   "source": [
    "start_day = 250\n",
    "total_days = 1"
   ],
   "outputs": [],
   "execution_count": null
  },
  {
   "cell_type": "markdown",
   "id": "e186717a-6bb4-43bd-901a-1d2ffb8fa2c6",
   "metadata": {},
   "source": [
    "#### 2.6.2 Set PV penetration level\n",
    "- Depending on the type of analysis, use the relevant PV penetration. \n",
    "- You may have a case **without solar PV systems**, therefore `penetration=0`"
   ]
  },
  {
   "cell_type": "code",
   "id": "8302cf60-dec3-4a76-8f67-d6a394712c1f",
   "metadata": {},
   "source": [
    "penetration = 0\n",
    "Loadname = DSSCircuit.Loads.AllNames\n",
    "num_cust = len(Loadname)*(penetration/100)"
   ],
   "outputs": [],
   "execution_count": null
  },
  {
   "cell_type": "markdown",
   "id": "7dd83c75-0d19-4327-8033-ef18d9853376",
   "metadata": {},
   "source": [
    "#### 2.6.3 Initialise Load profiles and PV systems\n",
    "After defining the functions, we are ready to allocate the Load and PV profiles"
   ]
  },
  {
   "cell_type": "code",
   "id": "f9b71c39",
   "metadata": {},
   "source": [
    "for icust, cust in enumerate(Loadname):\n",
    "    Load_profile_allocation(1,icust,cust,0)  \n",
    "    if num_cust>0:\n",
    "        PV_allocation(1,icust,cust,0)"
   ],
   "outputs": [],
   "execution_count": null
  },
  {
   "cell_type": "markdown",
   "id": "3a9bf6c0-1c3a-457e-a7ce-01a760eb9b6e",
   "metadata": {},
   "source": [
    "#### 2.6.4 Generate a random power factor list"
   ]
  },
  {
   "cell_type": "code",
   "id": "ebbb2455",
   "metadata": {},
   "source": [
    "keep_power_factor = []\n",
    "customers = len(Loadname)\n",
    "for i in range(total_days*customers):\n",
    "    keep_pf = []\n",
    "    for j in range(48):\n",
    "        random_pf = random.uniform(0.9,0.98)\n",
    "        keep_pf.append(random_pf)\n",
    "    keep_power_factor.append(keep_pf)"
   ],
   "outputs": [],
   "execution_count": null
  },
  {
   "cell_type": "markdown",
   "id": "bb7fc0e1-590b-41d8-a402-2cf3188c785b",
   "metadata": {},
   "source": [
    "### 2.7 Creating and controlling the OLTC\n",
    "The voltages in the Test LV Circuit (and any distribution network) should always be within the corresponding statutory limits. A distribution transformer with an OLTC can help you regulating voltages. Of course, this will all depend on how you decide to control it.\n",
    "\n",
    "In OpenDSS, we need to create a voltage regulator. Below are the settings for the OLTC in our Test LV Circuit:\n",
    "\n",
    "- **`New RegControl.OLTC`** creates a voltage regulator named \"OLTC\".\n",
    "- **`Transformer=transformer_MG1_TR1`** sets the voltage regulator to regulate voltages at transformer TR1.\n",
    "- **`Winding=2`** sets the winding of the transformer where the voltage is being controled.\n",
    "- **`TapWinding=1`** sets the winding of the transformer where the taps are connected to.\n",
    "- **`Vreg=(102)`** sets the voltage on the controlled bus (the secondary side) at 1.02pu. In case you need to set the voltage at 1pu, you just have to use 100. The same principle is valid for other values.\n",
    "- **`PTRatio=(400 3 sqrt / 100 /)`** sets the ratio of the potential transformer (**do not change this value**).\n",
    "- **`Band=1`** sets the bandwidth for the controlled bus (**do not change this value**).\n",
    "\n",
    "<font color='purple'>**<u>Tech Note 1</u>:**</font> Why is 100 equivalent to 1pu in the Vreg? In reality, the voltage being sensed can be after a little voltage transformer (yes, to make the voltage even smaller for sensors). And it's that little voltage that then the controller uses as a reference. In our case, because of the values we are using in the PTRatio (the transformer for the single-phase sensor), we can confidently say that 100 is equivalent to 400V line-to-line or 230V line-to-neutral.\n",
    "\n",
    "<font color='purple'>**<u>Tech Note 2</u>:**</font> Then, does band=1 mean the voltage we are OK with are from 1.01pu to 1.03pu? No. That 1 is for the whole band. So, it means the voltages we are OK with are from 1.015pu to 1.025pu. If the voltage at the secondary is not within that range, then the OLTC will change the tap position.\n",
    "\n",
    "<font color='red'>**<u>Note 1</u>:**</font> Although the settings are explained here in a separated way, do not separate them in the code. The code should be as on the next cell.\n",
    "\n",
    "<font color='red'>**<u>Note 2</u>:**</font> You will have to use the voltage regulator when asked in the exercises. So, when needed, you should uncomment the line, by deleting the `#` symbol."
   ]
  },
  {
   "cell_type": "code",
   "id": "9b6ed705",
   "metadata": {},
   "source": [
    "#DSSText.Command =  'New RegControl.OLTC Transformer=transformer_MG1_TR1 Winding=2 TapWinding=1 Vreg=(102) PTRatio=(400 3 sqrt / 100 /) Band=1'"
   ],
   "outputs": [],
   "execution_count": null
  },
  {
   "cell_type": "markdown",
   "id": "e0b1b862-58ff-4bff-a421-6eccfd0a29c5",
   "metadata": {},
   "source": [
    "### 2.8 Daily power flow analysis \n",
    "\n",
    "The last part of the code plots the voltage profiles of all 31 single-phase customers. \n",
    "\n",
    "<font color='red'>**<u>Note</u>:**</font> To check compliance with the statutory limits, use the corresponding **value** (+10% or -6% for upper and lower limits, respectively) in the commented line of code <font color='blue'>plt.axhline(**value**, linewidth = 1,linestyle='dashed', color = 'r')</font>"
   ]
  },
  {
   "cell_type": "code",
   "id": "231c87bd",
   "metadata": {},
   "source": [
    "for iday in range(start_day,start_day+total_days):\n",
    "    print(\"This is day: \",iday)\n",
    "    np.random.seed(10)\n",
    "    (kW_monitors, kvar_monitors, voltages_monitors, df_kw, df_kvar, df_volt, \n",
    "     load_profiles_all, pv_profiles_all, random_profiles_all, rand_cust,reactive_profiles_all) = Initiate_variable(customers)\n",
    "\n",
    "    for icust, cust in enumerate(Loadname):\n",
    "        load_profile,reactive_profile,random_profile=Load_profile_allocation(0,icust,cust,iday)\n",
    "        load_profiles_all.append(load_profile)\n",
    "        reactive_profiles_all.append(reactive_profile)\n",
    "        random_profiles_all.append(random_profile)\n",
    "        random.seed(90)\n",
    "        \n",
    "    random_customer = np.array(Loadname)\n",
    "    random.shuffle(random_customer) \n",
    "    \n",
    "    for numb in range(round(num_cust)):                \n",
    "         rand_cust.append(choice([PV_cust for PV_cust in random_customer if PV_cust not in rand_cust]))\n",
    "         PV_allocation(0,numb,rand_cust[numb],iday)\n",
    "         PV_profile=PV_allocation(0,numb,rand_cust[numb],iday)\n",
    "         pv_profiles_all.append(PV_profile)   \n",
    "\n",
    "    DSSText.Command = 'Reset'       \n",
    "    DSSText.Command = 'Set Mode=daily  number=1 stepsize=30m' \n",
    "        \n",
    "    for itime in range(48):\n",
    "        DSSSolution.Solve()\n",
    "        Monitors_data()\n",
    "    df_kw=pd.DataFrame(kW_monitors)\n",
    "    df_kvar=pd.DataFrame(kvar_monitors)\n",
    "    df_volt=pd.DataFrame(voltages_monitors)    \n",
    "    \n",
    "    if DSSSolution.Converged:\n",
    "         print('Message: The Solution Converged Successfully\\n')\n",
    "    else:\n",
    "         print(\"Message: The Solution Did Not Converge\\n\") \n",
    "           \n",
    "    \n",
    "    fig=plt.figure(figsize=(9,3)) \n",
    "    for idx, row in df_volt[0:31].iterrows():\n",
    "             plt.plot(np.array(row), linewidth = 2)         \n",
    "             plt.xlabel(\"Time (hh:mm)\", fontsize = 15)\n",
    "             plt.xticks(fontsize = 10)\n",
    "             plt.xticks(x,l, fontsize=10, rotation=60)\n",
    "             plt.ylabel('Voltage (p.u.)', fontsize = 15)\n",
    "             plt.yticks(fontsize = 10)\n",
    "             plt.title(\"Voltage Profile Day %s\"%(iday+1), fontsize = 15)\n",
    "             #plt.ylim([0.9,1.13])\n",
    "             #plt.axhline(1.10, linewidth = 1,linestyle='dashed', color = 'r')\n",
    "    plt.show()   "
   ],
   "outputs": [],
   "execution_count": null
  },
  {
   "cell_type": "markdown",
   "id": "5437fbc4-d1f7-403e-b15c-517c0b1c2b2d",
   "metadata": {},
   "source": [
    "## 3. Exercises\n",
    "\n",
    "First, read all the exercises so you understand their purpose.\n",
    "\n",
    "At the very end of this notebook in **4. Simulation Workspace**, you will be able to place all your code to run it at once. Remember, you should use **`code`** that is relevant to each exercise."
   ]
  },
  {
   "cell_type": "markdown",
   "id": "9e7e6059",
   "metadata": {},
   "source": [
    "### **Exercise:Residential Solar PV Systems and Active Network Management**\n",
    "In this exercise, you will use the LV network from Figure 1 and perfrom ANM.\n",
    "\n",
    "Before starting, change the `LVcircuit-master.txt` file such that the 22kV of the transformer in the LVcircuit-transformers.txt are equal to `1.08pu` (as given in the figure below). This corresponds to the case when the transformer is closer to the primary substation.\n"
   ]
  },
  {
   "cell_type": "markdown",
   "id": "ff714869",
   "metadata": {},
   "source": [
    "<img style=\"float: middle;\" src=\"TestLVCircuit\\change_master2.png\" width=\"50%\">  \n",
    "\n",
    "  "
   ]
  },
  {
   "cell_type": "markdown",
   "id": "f5278cd8-4e4d-4bba-adc7-954a9f169dd6",
   "metadata": {},
   "source": [
    "**E.1:** Set the PV penetration to **90%**. The upper and lower statutory voltage limits are +10%/- 6% of nominal. For the selected days given below, using the substation transformers’ ability to control the voltage of the secondary side (i.e., using on-load tap changer to control the voltage at secondary side), determine the voltage regulation value (i.e., only one value per season) for the on-load tap changer control that brings the voltage profiles of all 31 single-phase customers to values within the limits. Use regulation values that are apart by 0.00625pu and between 0.9pu and 1.1pu. For instance, 0.90625pu or 1.00625pu (of course, these are not the answers!). The regulation value that we are looking for is the highest one that leads to customer's voltage within the limits. \n",
    "\n",
    "- **Summer Day: `start_day=5`**\n",
    "- **Winter Day: `start_day=168`**  \n",
    "\n",
    "\n",
    "- `Note` that here it is expected that you provide one value for the summer season (by running simulations using the selected summer day) and one value for the winter season (by running simulations using the selected winter day). This is due to the fact that sometimes the taps of the transformer can be different, depending on the conditions. \n"
   ]
  },
  {
   "cell_type": "markdown",
   "id": "fcac370e",
   "metadata": {},
   "source": [
    "## 4. Simulation Workspace"
   ]
  },
  {
   "cell_type": "code",
   "id": "5bd542ed",
   "metadata": {},
   "source": [],
   "outputs": [],
   "execution_count": null
  }
 ],
 "metadata": {
  "kernelspec": {
   "display_name": "Python 3",
   "language": "python",
   "name": "python3"
  },
  "language_info": {
   "codemirror_mode": {
    "name": "ipython",
    "version": 3
   },
   "file_extension": ".py",
   "mimetype": "text/x-python",
   "name": "python",
   "nbconvert_exporter": "python",
   "pygments_lexer": "ipython3",
   "version": "3.8.8"
  }
 },
 "nbformat": 4,
 "nbformat_minor": 5
}
